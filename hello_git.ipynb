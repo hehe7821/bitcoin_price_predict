{
 "cells": [
  {
   "cell_type": "code",
   "execution_count": 1,
   "id": "539d7643-3a21-44d6-aca1-edef682a3865",
   "metadata": {},
   "outputs": [
    {
     "name": "stdout",
     "output_type": "stream",
     "text": [
      "say hello\n"
     ]
    }
   ],
   "source": [
    "print('say hello')"
   ]
  },
  {
   "cell_type": "code",
   "execution_count": 3,
   "id": "1d255bab-8661-491a-b5d1-ecc9cd54488f",
   "metadata": {},
   "outputs": [
    {
     "name": "stdout",
     "output_type": "stream",
     "text": [
      "I can't say this\n"
     ]
    }
   ],
   "source": [
    "print('I can\\'t say this')"
   ]
  },
  {
   "cell_type": "code",
   "execution_count": null,
   "id": "d02a56b1-1df2-46ea-b3dd-1be10bc5c12e",
   "metadata": {},
   "outputs": [],
   "source": []
  }
 ],
 "metadata": {
  "kernelspec": {
   "display_name": "Python (tf3)",
   "language": "python",
   "name": "tf3"
  },
  "language_info": {
   "codemirror_mode": {
    "name": "ipython",
    "version": 3
   },
   "file_extension": ".py",
   "mimetype": "text/x-python",
   "name": "python",
   "nbconvert_exporter": "python",
   "pygments_lexer": "ipython3",
   "version": "3.13.5"
  }
 },
 "nbformat": 4,
 "nbformat_minor": 5
}
