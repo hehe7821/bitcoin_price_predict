{
 "cells": [
  {
   "cell_type": "code",
   "execution_count": 1,
   "id": "539d7643-3a21-44d6-aca1-edef682a3865",
   "metadata": {},
   "outputs": [
    {
     "name": "stdout",
     "output_type": "stream",
     "text": [
      "say hello\n"
     ]
    }
   ],
   "source": [
    "print('say hello')"
   ]
  }
 ],
 "metadata": {
  "kernelspec": {
   "display_name": "Python (tf3)",
   "language": "python",
   "name": "tf3"
  },
  "language_info": {
   "codemirror_mode": {
    "name": "ipython",
    "version": 3
   },
   "file_extension": ".py",
   "mimetype": "text/x-python",
   "name": "python",
   "nbconvert_exporter": "python",
   "pygments_lexer": "ipython3",
   "version": "3.13.5"
  }
 },
 "nbformat": 4,
 "nbformat_minor": 5
}
